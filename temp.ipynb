{
 "cells": [
  {
   "cell_type": "code",
   "execution_count": 31,
   "outputs": [],
   "source": [],
   "metadata": {
    "collapsed": false
   }
  },
  {
   "cell_type": "code",
   "execution_count": 32,
   "outputs": [
    {
     "data": {
      "text/plain": "True"
     },
     "execution_count": 32,
     "metadata": {},
     "output_type": "execute_result"
    }
   ],
   "source": [
    "import numpy as np\n",
    "import cv2\n",
    "import glob\n",
    "import math\n",
    "\n",
    "listImages = glob.glob ( \"framesVideo1/uncalibrated/*.jpg\" )\n",
    "\n",
    "# for each image\n",
    "for image in listImages :\n",
    "\n",
    "    image = cv2.imread ( \"1.jpg\" )\n",
    "\n",
    "    cv2.imwrite ( image.replace ( \"uncalibrated\" , \"polygonborders\" ) , actual_image )\n",
    "\n",
    "    cv2.imwrite ( \"cmod.jpg\" , imageGreyColor )"
   ],
   "metadata": {
    "collapsed": false
   }
  }
 ],
 "metadata": {
  "kernelspec": {
   "display_name": "Python 3",
   "language": "python",
   "name": "python3"
  },
  "language_info": {
   "codemirror_mode": {
    "name": "ipython",
    "version": 2
   },
   "file_extension": ".py",
   "mimetype": "text/x-python",
   "name": "python",
   "nbconvert_exporter": "python",
   "pygments_lexer": "ipython2",
   "version": "2.7.6"
  }
 },
 "nbformat": 4,
 "nbformat_minor": 0
}
