{
 "cells": [
  {
   "cell_type": "code",
   "execution_count": 31,
   "outputs": [],
   "source": [],
   "metadata": {
    "collapsed": false
   }
  },
  {
   "cell_type": "code",
   "execution_count": 32,
   "outputs": [
    {
     "data": {
      "text/plain": "True"
     },
     "execution_count": 32,
     "metadata": {},
     "output_type": "execute_result"
    }
   ],
   "source": [
    "import cv2\n",
    "import numpy as np\n",
    "\n",
    "frame = cv2.imread ( \"c.jpg\" )\n",
    "image = cv2.imread ( \"1.jpg\" )\n",
    "\n",
    "\n",
    "imageGreyColor = cv2.cvtColor ( frame , cv2.COLOR_BGR2HSV)\n",
    "\n",
    "cv2.imwrite ( \"cmod1.jpg\" , imageGreyColor )\n",
    "\n",
    "lower=np.array([0, 0, 0])\n",
    "upper=np.array([150, 150, 255])\n",
    "\n",
    "cv2.bitwise_not(imageGreyColor, imageGreyColor, cv2.inRange(imageGreyColor, lower, upper))\n",
    "\n",
    "cv2.imwrite ( \"cmod.jpg\" , imageGreyColor )"
   ],
   "metadata": {
    "collapsed": false
   }
  }
 ],
 "metadata": {
  "kernelspec": {
   "display_name": "Python 3",
   "language": "python",
   "name": "python3"
  },
  "language_info": {
   "codemirror_mode": {
    "name": "ipython",
    "version": 2
   },
   "file_extension": ".py",
   "mimetype": "text/x-python",
   "name": "python",
   "nbconvert_exporter": "python",
   "pygments_lexer": "ipython2",
   "version": "2.7.6"
  }
 },
 "nbformat": 4,
 "nbformat_minor": 0
}
