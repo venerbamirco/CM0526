{
 "cells": [
  {
   "cell_type": "code",
   "execution_count": 2,
   "outputs": [],
   "source": [
    "# import all necessary libraries\n",
    "import cv2"
   ],
   "metadata": {
    "collapsed": false
   }
  },
  {
   "cell_type": "code",
   "execution_count": 12,
   "outputs": [
    {
     "name": "stdout",
     "output_type": "stream",
     "text": [
      "START SAVE FRAMES VIDEO CALIBRATION\n",
      "FINISH SAVE FRAMES VIDEO CALIBRATION\n"
     ]
    }
   ],
   "source": [
    "# NB: i divided the code in 4 equal parts because if i would save frames of only one video or\n",
    "# i would change the number of frames of one video without changing all parts, i will execute only that part...\n",
    "# To optimize the code, a for loop was enough that scrolled through all the videos with a code inside that took the\n",
    "# index of the current video to save the relative frames\n",
    "\n",
    "# NB: i choose to save 40 frames for each video because otherwise the execution time is very long and for\n",
    "# this the whole algorithm works with the uncalibrated folder frames and this algorithm saves all frames in allframes\n",
    "# folder. So if we want to execute the whole algorithm with all frames, we must copy the frames of allframes folder in\n",
    "# uncalibrated folder.\n",
    "\n",
    "# a complete round of the object requires 40 frames and for this reason I chose to analyze only these,\n",
    "# losing quality but reducing execution times given that for this project the important thing was to\n",
    "# apply computer vision techniques and also lose 1-2 pixels of accuracy for this project is fine too\n",
    "\n",
    "print(\"START SAVE FRAMES VIDEO CALIBRATION\")\n",
    "\n",
    "# open the video\n",
    "videoCalibration = cv2.VideoCapture(\"data/calibration.mp4\")\n",
    "\n",
    "# the first frame is number 1\n",
    "indexActualFrame = 1\n",
    "\n",
    "# while there are other frames\n",
    "while videoCalibration.isOpened():\n",
    "\n",
    "    # try to read another frame\n",
    "    ret, frame = videoCalibration.read()\n",
    "\n",
    "    # if there is not another frame or some errors\n",
    "    if not ret:\n",
    "\n",
    "        # break the while loop\n",
    "        break\n",
    "\n",
    "    # if there is another frame and there are not errors\n",
    "    else:\n",
    "\n",
    "        # save one frame over each 50\n",
    "        if indexActualFrame % 50 == 0:\n",
    "            # save the actual frame in the uncalibrated folder with the right index\n",
    "            cv2.imwrite(\"framesVideoCalibration/uncalibrated/\" + str(indexActualFrame) + \".jpg\", frame)\n",
    "\n",
    "        # save the actual frame in the all frames folder  with the right index\n",
    "        cv2.imwrite(\"framesVideoCalibration/allframes/\" + str(indexActualFrame) + \".jpg\", frame)\n",
    "\n",
    "        # increment the index for the next frame\n",
    "        indexActualFrame = indexActualFrame + 1\n",
    "\n",
    "# release the video\n",
    "videoCalibration.release()\n",
    "\n",
    "# debug row\n",
    "print(\"FINISH SAVE FRAMES VIDEO CALIBRATION\")"
   ],
   "metadata": {
    "collapsed": false
   }
  },
  {
   "cell_type": "code",
   "execution_count": 3,
   "outputs": [
    {
     "name": "stdout",
     "output_type": "stream",
     "text": [
      "START SAVE FRAMES VIDEO 1\n",
      "FINISH SAVE FRAMES VIDEO 1\n"
     ]
    }
   ],
   "source": [
    "# debug row\n",
    "print(\"START SAVE FRAMES VIDEO 1\")\n",
    "\n",
    "# open the video\n",
    "video1 = cv2.VideoCapture(\"data/obj01.mp4\")\n",
    "\n",
    "# the first frame is number 1\n",
    "indexActualFrame = 1\n",
    "\n",
    "# while there are other frames\n",
    "while video1.isOpened():\n",
    "\n",
    "    # try to read another frame\n",
    "    ret, frame = video1.read()\n",
    "\n",
    "    # if there is not another frame or some errors\n",
    "    if not ret:\n",
    "\n",
    "        # break the while loop\n",
    "        break\n",
    "\n",
    "    # if there is another frame and there are not errors\n",
    "    else:\n",
    "\n",
    "        # only 40 image taken 1 over each 10 to minimize the total time for the algorithm - a complete round of\n",
    "        # the object is 400 frame plus or minus\n",
    "        if indexActualFrame % 10 == 0 and indexActualFrame < 401:\n",
    "            # save the actual frame in the uncalibrated folder of video 1 with the right index\n",
    "            cv2.imwrite(\"framesVideo1/uncalibrated/\" + str(indexActualFrame) + \".jpg\", frame)\n",
    "\n",
    "        # save the actual frame in the all frames folder of video 1 with the right index\n",
    "        cv2.imwrite(\"framesVideo1/allframes/\" + str(indexActualFrame) + \".jpg\", frame)\n",
    "\n",
    "        # increment the index for the next frame\n",
    "        indexActualFrame = indexActualFrame + 1\n",
    "\n",
    "# release the video\n",
    "video1.release()\n",
    "\n",
    "# debug row\n",
    "print(\"FINISH SAVE FRAMES VIDEO 1\")"
   ],
   "metadata": {
    "collapsed": false
   }
  },
  {
   "cell_type": "code",
   "execution_count": 3,
   "outputs": [
    {
     "name": "stdout",
     "output_type": "stream",
     "text": [
      "START SAVE FRAMES VIDEO 2\n",
      "FINISH SAVE FRAMES VIDEO 2\n"
     ]
    }
   ],
   "source": [
    "# debug row\n",
    "print(\"START SAVE FRAMES VIDEO 2\")\n",
    "\n",
    "# open the video\n",
    "video2 = cv2.VideoCapture(\"data/obj02.mp4\")\n",
    "\n",
    "# the first frame is number 1\n",
    "indexActualFrame = 1\n",
    "\n",
    "# while there are other frames\n",
    "while video2.isOpened():\n",
    "\n",
    "    # try to read another frame\n",
    "    ret, frame = video2.read()\n",
    "\n",
    "    # if there is not another frame or some errors\n",
    "    if not ret:\n",
    "\n",
    "        # break the while loop\n",
    "        break\n",
    "\n",
    "    # if there is another frame and there are not errors\n",
    "    else:\n",
    "\n",
    "        # only 40 image taken 1 over each 10 to minimize the total time for the algorithm - a complete round is 400 frame\n",
    "        # of the object plus or minus\n",
    "        if indexActualFrame % 10 == 0 and indexActualFrame < 401:\n",
    "            # save the actual frame in the uncalibrated folder of video 1 with the right index\n",
    "            cv2.imwrite(\"framesVideo2/uncalibrated/\" + str(indexActualFrame) + \".jpg\", frame)\n",
    "\n",
    "        # save the actual frame in the all frames folder of video 1 with the right index\n",
    "        cv2.imwrite(\"framesVideo2/allframes/\" + str(indexActualFrame) + \".jpg\", frame)\n",
    "\n",
    "        # increment the index for the next frame\n",
    "        indexActualFrame = indexActualFrame + 1\n",
    "\n",
    "# release the video\n",
    "video2.release()\n",
    "\n",
    "# debug row\n",
    "print(\"FINISH SAVE FRAMES VIDEO 2\")"
   ],
   "metadata": {
    "collapsed": false
   }
  },
  {
   "cell_type": "code",
   "execution_count": 15,
   "outputs": [
    {
     "name": "stdout",
     "output_type": "stream",
     "text": [
      "START SAVE FRAMES VIDEO 3\n",
      "FINISH SAVE FRAMES VIDEO 3\n"
     ]
    }
   ],
   "source": [
    "# debug row\n",
    "print(\"START SAVE FRAMES VIDEO 3\")\n",
    "\n",
    "# open the video\n",
    "video3 = cv2.VideoCapture(\"data/obj03.mp4\")\n",
    "\n",
    "# the first frame is number 1\n",
    "indexActualFrame = 1\n",
    "\n",
    "# while there are other frames\n",
    "while video3.isOpened():\n",
    "\n",
    "    # try to read another frame\n",
    "    ret, frame = video3.read()\n",
    "\n",
    "    # if there is not another frame or some errors\n",
    "    if not ret:\n",
    "\n",
    "        # break the while loop\n",
    "        break\n",
    "\n",
    "    # if there is another frame and there are not errors\n",
    "    else:\n",
    "\n",
    "        # only 40 image taken 1 over each 10 to minimize the total time for the algorithm - a complete round is 400 frame plus or minus\n",
    "        if indexActualFrame % 10 == 0 and indexActualFrame < 401:\n",
    "            # save the actual frame in the uncalibrated folder of video 1 with the right index\n",
    "            cv2.imwrite(\"framesVideo3/uncalibrated/\" + str(indexActualFrame) + \".jpg\", frame)\n",
    "\n",
    "        # save the actual frame in the all frames folder of video 1 with the right index\n",
    "        cv2.imwrite(\"framesVideo3/allframes/\" + str(indexActualFrame) + \".jpg\", frame)\n",
    "\n",
    "        # increment the index for the next frame\n",
    "        indexActualFrame = indexActualFrame + 1\n",
    "\n",
    "# release the video\n",
    "video3.release()\n",
    "\n",
    "# debug row\n",
    "print(\"FINISH SAVE FRAMES VIDEO 3\")"
   ],
   "metadata": {
    "collapsed": false
   }
  },
  {
   "cell_type": "code",
   "execution_count": 16,
   "outputs": [
    {
     "name": "stdout",
     "output_type": "stream",
     "text": [
      "START SAVE FRAMES VIDEO 4\n",
      "FINISH SAVE FRAMES VIDEO 4\n"
     ]
    }
   ],
   "source": [
    "# debug row\n",
    "print(\"START SAVE FRAMES VIDEO 4\")\n",
    "\n",
    "# open the video\n",
    "video4 = cv2.VideoCapture(\"data/obj04.mp4\")\n",
    "\n",
    "# the first frame is number 1\n",
    "indexActualFrame = 1\n",
    "\n",
    "# while there are other frames\n",
    "while video4.isOpened():\n",
    "\n",
    "    # try to read another frame\n",
    "    ret, frame = video4.read()\n",
    "\n",
    "    # if there is not another frame or some errors\n",
    "    if not ret:\n",
    "\n",
    "        # break the while loop\n",
    "        break\n",
    "\n",
    "    # if there is another frame and there are not errors\n",
    "    else:\n",
    "\n",
    "        # only 40 image taken 1 over each 10 to minimize the total time for the algorithm - a complete round is 400 frame\n",
    "        # of the object plus or minus\n",
    "        if indexActualFrame % 10 == 0 and indexActualFrame < 401:\n",
    "            # save the actual frame in the uncalibrated folder of video 1 with the right index\n",
    "            cv2.imwrite(\"framesVideo4/uncalibrated/\" + str(indexActualFrame) + \".jpg\", frame)\n",
    "\n",
    "        # save the actual frame in the all frames folder of video 1 with the right index\n",
    "        cv2.imwrite(\"framesVideo4/allframes/\" + str(indexActualFrame) + \".jpg\", frame)\n",
    "\n",
    "        # increment the index for the next frame\n",
    "        indexActualFrame = indexActualFrame + 1\n",
    "\n",
    "# release the video\n",
    "video4.release()\n",
    "\n",
    "# debug row\n",
    "print(\"FINISH SAVE FRAMES VIDEO 4\")"
   ],
   "metadata": {
    "collapsed": false
   }
  }
 ],
 "metadata": {
  "kernelspec": {
   "display_name": "Python 3",
   "language": "python",
   "name": "python3"
  },
  "language_info": {
   "codemirror_mode": {
    "name": "ipython",
    "version": 2
   },
   "file_extension": ".py",
   "mimetype": "text/x-python",
   "name": "python",
   "nbconvert_exporter": "python",
   "pygments_lexer": "ipython2",
   "version": "2.7.6"
  }
 },
 "nbformat": 4,
 "nbformat_minor": 0
}
