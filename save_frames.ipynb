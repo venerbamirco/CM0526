{
 "cells": [
  {
   "cell_type": "markdown",
   "source": [
    "Now we import all necessary libraries"
   ],
   "metadata": {
    "collapsed": false
   }
  },
  {
   "cell_type": "code",
   "execution_count": 2,
   "outputs": [],
   "source": [
    "import cv2"
   ],
   "metadata": {
    "collapsed": false
   }
  },
  {
   "cell_type": "code",
   "execution_count": 5,
   "outputs": [],
   "source": [
    "# variable for debug\n",
    "debug = True"
   ],
   "metadata": {
    "collapsed": false
   }
  },
  {
   "cell_type": "markdown",
   "source": [
    "Now we load all four video"
   ],
   "metadata": {
    "collapsed": false
   }
  },
  {
   "cell_type": "code",
   "execution_count": 2,
   "outputs": [],
   "source": [
    "# load all videos\n",
    "videoCalibration = cv2.VideoCapture ( \"data/calibration.mp4\" )\n",
    "video1 = cv2.VideoCapture ( \"data/obj01.mp4\" )\n",
    "video2 = cv2.VideoCapture ( \"data/obj02.mp4\" )\n",
    "video3 = cv2.VideoCapture ( \"data/obj03.mp4\" )\n",
    "video4 = cv2.VideoCapture ( \"data/obj04.mp4\" )"
   ],
   "metadata": {
    "collapsed": false
   }
  },
  {
   "cell_type": "markdown",
   "source": [
    "Now we calculate the fps for each video"
   ],
   "metadata": {
    "collapsed": false
   }
  },
  {
   "cell_type": "code",
   "execution_count": 4,
   "outputs": [
    {
     "name": "stdout",
     "output_type": "stream",
     "text": [
      "FPS\n",
      "Video calibration) 29.97002997002997\n",
      "Video 1) 29.97002997002997\n",
      "Video 2) 29.97002997002997\n",
      "Video 3) 29.97002997002997\n",
      "Video 4) 29.97002997002997\n"
     ]
    }
   ],
   "source": [
    "# variables for fps\n",
    "fpsVideoCalibration = videoCalibration.get ( cv2.CAP_PROP_FPS )\n",
    "fpsVideo1 = video1.get ( cv2.CAP_PROP_FPS )\n",
    "fpsVideo2 = video2.get ( cv2.CAP_PROP_FPS )\n",
    "fpsVideo3 = video3.get ( cv2.CAP_PROP_FPS )\n",
    "fpsVideo4 = video4.get ( cv2.CAP_PROP_FPS )\n",
    "\n",
    "if debug :\n",
    "\tprint ( \"FPS\" )\n",
    "\tprint ( \"Video calibration) \" + str ( fpsVideo1 ) )\n",
    "\tprint ( \"Video 1) \" + str ( fpsVideo1 ) )\n",
    "\tprint ( \"Video 2) \" + str ( fpsVideo2 ) )\n",
    "\tprint ( \"Video 3) \" + str ( fpsVideo3 ) )\n",
    "\tprint ( \"Video 4) \" + str ( fpsVideo4 ) )"
   ],
   "metadata": {
    "collapsed": false
   }
  },
  {
   "cell_type": "markdown",
   "source": [
    "Now we store the length of each video"
   ],
   "metadata": {
    "collapsed": false
   }
  },
  {
   "cell_type": "code",
   "execution_count": 5,
   "outputs": [
    {
     "name": "stdout",
     "output_type": "stream",
     "text": [
      "LENGTH\n",
      "Video calibration) 1:20\n",
      "Video 1) 0:28\n",
      "Video 2) 0:21\n",
      "Video 3) 0:16\n",
      "Video 4) 0:20\n"
     ]
    }
   ],
   "source": [
    "# variables to contains length of each video\n",
    "minutesVideoCalibration = 1\n",
    "secondsVideoCalibration = 20\n",
    "\n",
    "minutesVideo1 = 0\n",
    "secondsVideo1 = 28\n",
    "\n",
    "minutesVideo2 = 0\n",
    "secondsVideo2 = 21\n",
    "\n",
    "minutesVideo3 = 0\n",
    "secondsVideo3 = 16\n",
    "\n",
    "minutesVideo4 = 0\n",
    "secondsVideo4 = 20\n",
    "\n",
    "if debug :\n",
    "\tprint ( \"LENGTH\" )\n",
    "\tprint ( \"Video calibration) \" + str ( minutesVideoCalibration ) + \":\" + str ( secondsVideoCalibration ) )\n",
    "\tprint ( \"Video 1) \" + str ( minutesVideo1 ) + \":\" + str ( secondsVideo1 ) )\n",
    "\tprint ( \"Video 2) \" + str ( minutesVideo2 ) + \":\" + str ( secondsVideo2 ) )\n",
    "\tprint ( \"Video 3) \" + str ( minutesVideo3 ) + \":\" + str ( secondsVideo3 ) )\n",
    "\tprint ( \"Video 4) \" + str ( minutesVideo4 ) + \":\" + str ( secondsVideo4 ) )"
   ],
   "metadata": {
    "collapsed": false
   }
  },
  {
   "cell_type": "markdown",
   "source": [
    "Now we calculate the number of frames for each video"
   ],
   "metadata": {
    "collapsed": false
   }
  },
  {
   "cell_type": "code",
   "execution_count": 6,
   "outputs": [
    {
     "name": "stdout",
     "output_type": "stream",
     "text": [
      "FRAMES\n",
      "Video calibration) 2397\n",
      "Video 1) 839\n",
      "Video 2) 629\n",
      "Video 3) 479\n",
      "Video 4) 599\n"
     ]
    }
   ],
   "source": [
    "# variables to contains the number of all frames for each video\n",
    "numberFramesVideoCalibration = int ( fpsVideoCalibration * (minutesVideoCalibration * 60 + secondsVideoCalibration) )\n",
    "numberFramesVideo1 = int ( fpsVideo1 * (minutesVideo1 * 60 + secondsVideo1) )\n",
    "numberFramesVideo2 = int ( fpsVideo2 * (minutesVideo2 * 60 + secondsVideo2) )\n",
    "numberFramesVideo3 = int ( fpsVideo3 * (minutesVideo3 * 60 + secondsVideo3) )\n",
    "numberFramesVideo4 = int ( fpsVideo4 * (minutesVideo4 * 60 + secondsVideo4) )\n",
    "\n",
    "if debug :\n",
    "\tprint ( \"FRAMES\" )\n",
    "\tprint ( \"Video calibration) \" + str ( numberFramesVideoCalibration ) )\n",
    "\tprint ( \"Video 1) \" + str ( numberFramesVideo1 ) )\n",
    "\tprint ( \"Video 2) \" + str ( numberFramesVideo2 ) )\n",
    "\tprint ( \"Video 3) \" + str ( numberFramesVideo3 ) )\n",
    "\tprint ( \"Video 4) \" + str ( numberFramesVideo4 ) )"
   ],
   "metadata": {
    "collapsed": false
   }
  },
  {
   "cell_type": "markdown",
   "source": [
    "Now we must save the correct number of frames of calibration video"
   ],
   "metadata": {
    "collapsed": false
   }
  },
  {
   "cell_type": "code",
   "execution_count": 7,
   "outputs": [
    {
     "name": "stdout",
     "output_type": "stream",
     "text": [
      "START SAVE FRAMES VIDEO CALIBRATION\n",
      "FINISH SAVE FRAMES VIDEO CALIBRATION\n"
     ]
    }
   ],
   "source": [
    "if debug :\n",
    "\tprint ( \"START SAVE FRAMES VIDEO CALIBRATION\" )\n",
    "\n",
    "# number of frames that we want\n",
    "numberFramesWeWantVideoCalibration = 50\n",
    "\n",
    "# number of frame to skip going forward\n",
    "numberFrameToSkipVideoCalibration = numberFramesVideoCalibration / numberFramesWeWantVideoCalibration\n",
    "\n",
    "# variable to store the index of actual frame that we must save\n",
    "indexActualFrame = 1\n",
    "\n",
    "# variable to store the correct index in the folder\n",
    "indexInFolder = 1\n",
    "\n",
    "# until the index of actual frame is less than the total number\n",
    "while indexActualFrame <= numberFramesVideoCalibration :\n",
    "\n",
    "\t# set the frame that we must save\n",
    "\tvideoCalibration.set ( 1 , indexActualFrame )\n",
    "\n",
    "\t# read the current frame\n",
    "\tret , frame = videoCalibration.read ( )\n",
    "\n",
    "\t# TODO check ret is true\n",
    "\n",
    "\t# save the actual frame\n",
    "\tcv2.imwrite ( \"framesVideoCalibration/uncalibrated/\" + str ( indexInFolder ) + \".jpg\" , frame )\n",
    "\n",
    "\t# increment the index used in the folder\n",
    "\tindexInFolder += 1\n",
    "\n",
    "\t# increment the index for the next frame to save\n",
    "\tindexActualFrame += numberFrameToSkipVideoCalibration\n",
    "\n",
    "if debug :\n",
    "\tprint ( \"FINISH SAVE FRAMES VIDEO CALIBRATION\" )"
   ],
   "metadata": {
    "collapsed": false
   }
  },
  {
   "cell_type": "markdown",
   "source": [
    "Now we must save the correct number of frames of video 1"
   ],
   "metadata": {
    "collapsed": false
   }
  },
  {
   "cell_type": "code",
   "execution_count": 6,
   "outputs": [
    {
     "name": "stdout",
     "output_type": "stream",
     "text": [
      "START SAVE FRAMES VIDEO 1\n",
      "FINISH SAVE FRAMES VIDEO 1\n"
     ]
    }
   ],
   "source": [
    "# debug row\n",
    "print ( \"START SAVE FRAMES VIDEO 1\" )\n",
    "\n",
    "# open the video\n",
    "video1 = cv2.VideoCapture ( \"data/obj01.mp4\" )\n",
    "\n",
    "# the first frame is number 1\n",
    "indexActualFrame = 1\n",
    "\n",
    "# while there are other frames\n",
    "while video1.isOpened ( ) :\n",
    "\n",
    "\t# try to read another frame\n",
    "\tret , frame = video1.read ( )\n",
    "\n",
    "\t# if there is not another frame or some errors\n",
    "\tif not ret :\n",
    "\n",
    "\t\t# break the while loop\n",
    "\t\tbreak\n",
    "\n",
    "\t# if there is another frame and there are not errors\n",
    "\telse :\n",
    "\n",
    "\t\t# save the actual frame in the uncalibrated folder of video 1 with the right index\n",
    "\t\tcv2.imwrite ( \"framesVideo1/uncalibrated/\" + str ( indexActualFrame ) + \".jpg\" , frame )\n",
    "\n",
    "\t\t# increment the index for the next frame\n",
    "\t\tindexActualFrame = indexActualFrame + 1\n",
    "\n",
    "# release the video\n",
    "video1.release ( )\n",
    "\n",
    "# debug row\n",
    "print ( \"FINISH SAVE FRAMES VIDEO 1\" )"
   ],
   "metadata": {
    "collapsed": false
   }
  },
  {
   "cell_type": "markdown",
   "source": [
    "Now we must save the correct number of frames of video 2"
   ],
   "metadata": {
    "collapsed": false
   }
  },
  {
   "cell_type": "code",
   "execution_count": 3,
   "outputs": [
    {
     "name": "stdout",
     "output_type": "stream",
     "text": [
      "START SAVE FRAMES VIDEO 2\n"
     ]
    },
    {
     "ename": "KeyboardInterrupt",
     "evalue": "",
     "output_type": "error",
     "traceback": [
      "\u001B[1;31m---------------------------------------------------------------------------\u001B[0m",
      "\u001B[1;31mKeyboardInterrupt\u001B[0m                         Traceback (most recent call last)",
      "Cell \u001B[1;32mIn [3], line 26\u001B[0m\n\u001B[0;32m     20\u001B[0m \t\u001B[38;5;28;01mbreak\u001B[39;00m\n\u001B[0;32m     22\u001B[0m \u001B[38;5;66;03m# if there is another frame and there are not errors\u001B[39;00m\n\u001B[0;32m     23\u001B[0m \u001B[38;5;28;01melse\u001B[39;00m :\n\u001B[0;32m     24\u001B[0m \n\u001B[0;32m     25\u001B[0m \t\u001B[38;5;66;03m# save the actual frame in the uncalibrated folder of video 1 with the right index\u001B[39;00m\n\u001B[1;32m---> 26\u001B[0m \t\u001B[43mcv2\u001B[49m\u001B[38;5;241;43m.\u001B[39;49m\u001B[43mimwrite\u001B[49m\u001B[43m \u001B[49m\u001B[43m(\u001B[49m\u001B[43m \u001B[49m\u001B[38;5;124;43m\"\u001B[39;49m\u001B[38;5;124;43mframesVideo2/uncalibrated/\u001B[39;49m\u001B[38;5;124;43m\"\u001B[39;49m\u001B[43m \u001B[49m\u001B[38;5;241;43m+\u001B[39;49m\u001B[43m \u001B[49m\u001B[38;5;28;43mstr\u001B[39;49m\u001B[43m \u001B[49m\u001B[43m(\u001B[49m\u001B[43m \u001B[49m\u001B[43mindexActualFrame\u001B[49m\u001B[43m \u001B[49m\u001B[43m)\u001B[49m\u001B[43m \u001B[49m\u001B[38;5;241;43m+\u001B[39;49m\u001B[43m \u001B[49m\u001B[38;5;124;43m\"\u001B[39;49m\u001B[38;5;124;43m.jpg\u001B[39;49m\u001B[38;5;124;43m\"\u001B[39;49m\u001B[43m \u001B[49m\u001B[43m,\u001B[49m\u001B[43m \u001B[49m\u001B[43mframe\u001B[49m\u001B[43m \u001B[49m\u001B[43m)\u001B[49m\n\u001B[0;32m     28\u001B[0m \t\u001B[38;5;66;03m# increment the index for the next frame\u001B[39;00m\n\u001B[0;32m     29\u001B[0m \tindexActualFrame \u001B[38;5;241m=\u001B[39m indexActualFrame \u001B[38;5;241m+\u001B[39m \u001B[38;5;241m1\u001B[39m\n",
      "\u001B[1;31mKeyboardInterrupt\u001B[0m: "
     ]
    }
   ],
   "source": [
    "# debug row\n",
    "print ( \"START SAVE FRAMES VIDEO 2\" )\n",
    "\n",
    "# open the video\n",
    "video2 = cv2.VideoCapture ( \"data/obj02.mp4\" )\n",
    "\n",
    "# the first frame is number 1\n",
    "indexActualFrame = 1\n",
    "\n",
    "# while there are other frames\n",
    "while video2.isOpened ( ) :\n",
    "\n",
    "\t# try to read another frame\n",
    "\tret , frame = video2.read ( )\n",
    "\n",
    "\t# if there is not another frame or some errors\n",
    "\tif not ret :\n",
    "\n",
    "\t\t# break the while loop\n",
    "\t\tbreak\n",
    "\n",
    "\t# if there is another frame and there are not errors\n",
    "\telse :\n",
    "\n",
    "\t\t# save the actual frame in the uncalibrated folder of video 1 with the right index\n",
    "\t\tcv2.imwrite ( \"framesVideo2/uncalibrated/\" + str ( indexActualFrame ) + \".jpg\" , frame )\n",
    "\n",
    "\t\t# increment the index for the next frame\n",
    "\t\tindexActualFrame = indexActualFrame + 1\n",
    "\n",
    "# release the video\n",
    "video2.release ( )\n",
    "\n",
    "# debug row\n",
    "print ( \"FINISH SAVE FRAMES VIDEO 2\" )"
   ],
   "metadata": {
    "collapsed": false
   }
  },
  {
   "cell_type": "markdown",
   "source": [
    "Now we must save the correct number of frames of video 3"
   ],
   "metadata": {
    "collapsed": false
   }
  },
  {
   "cell_type": "code",
   "execution_count": 6,
   "outputs": [
    {
     "name": "stdout",
     "output_type": "stream",
     "text": [
      "START SAVE FRAMES VIDEO 3\n"
     ]
    },
    {
     "ename": "KeyboardInterrupt",
     "evalue": "",
     "output_type": "error",
     "traceback": [
      "\u001B[1;31m---------------------------------------------------------------------------\u001B[0m",
      "\u001B[1;31mKeyboardInterrupt\u001B[0m                         Traceback (most recent call last)",
      "Cell \u001B[1;32mIn [6], line 26\u001B[0m\n\u001B[0;32m     20\u001B[0m \t\u001B[38;5;28;01mbreak\u001B[39;00m\n\u001B[0;32m     22\u001B[0m \u001B[38;5;66;03m# if there is another frame and there are not errors\u001B[39;00m\n\u001B[0;32m     23\u001B[0m \u001B[38;5;28;01melse\u001B[39;00m :\n\u001B[0;32m     24\u001B[0m \n\u001B[0;32m     25\u001B[0m \t\u001B[38;5;66;03m# save the actual frame in the uncalibrated folder of video 1 with the right index\u001B[39;00m\n\u001B[1;32m---> 26\u001B[0m \t\u001B[43mcv2\u001B[49m\u001B[38;5;241;43m.\u001B[39;49m\u001B[43mimwrite\u001B[49m\u001B[43m \u001B[49m\u001B[43m(\u001B[49m\u001B[43m \u001B[49m\u001B[38;5;124;43m\"\u001B[39;49m\u001B[38;5;124;43mframesVideo3/uncalibrated/\u001B[39;49m\u001B[38;5;124;43m\"\u001B[39;49m\u001B[43m \u001B[49m\u001B[38;5;241;43m+\u001B[39;49m\u001B[43m \u001B[49m\u001B[38;5;28;43mstr\u001B[39;49m\u001B[43m \u001B[49m\u001B[43m(\u001B[49m\u001B[43m \u001B[49m\u001B[43mindexActualFrame\u001B[49m\u001B[43m \u001B[49m\u001B[43m)\u001B[49m\u001B[43m \u001B[49m\u001B[38;5;241;43m+\u001B[39;49m\u001B[43m \u001B[49m\u001B[38;5;124;43m\"\u001B[39;49m\u001B[38;5;124;43m.jpg\u001B[39;49m\u001B[38;5;124;43m\"\u001B[39;49m\u001B[43m \u001B[49m\u001B[43m,\u001B[49m\u001B[43m \u001B[49m\u001B[43mframe\u001B[49m\u001B[43m \u001B[49m\u001B[43m)\u001B[49m\n\u001B[0;32m     28\u001B[0m \t\u001B[38;5;66;03m# increment the index for the next frame\u001B[39;00m\n\u001B[0;32m     29\u001B[0m \tindexActualFrame \u001B[38;5;241m=\u001B[39m indexActualFrame \u001B[38;5;241m+\u001B[39m \u001B[38;5;241m1\u001B[39m\n",
      "\u001B[1;31mKeyboardInterrupt\u001B[0m: "
     ]
    }
   ],
   "source": [
    "# debug row\n",
    "print ( \"START SAVE FRAMES VIDEO 3\" )\n",
    "\n",
    "# open the video\n",
    "video3 = cv2.VideoCapture ( \"data/obj03.mp4\" )\n",
    "\n",
    "# the first frame is number 1\n",
    "indexActualFrame = 1\n",
    "\n",
    "# while there are other frames\n",
    "while video3.isOpened ( ) :\n",
    "\n",
    "\t# try to read another frame\n",
    "\tret , frame = video3.read ( )\n",
    "\n",
    "\t# if there is not another frame or some errors\n",
    "\tif not ret :\n",
    "\n",
    "\t\t# break the while loop\n",
    "\t\tbreak\n",
    "\n",
    "\t# if there is another frame and there are not errors\n",
    "\telse :\n",
    "\n",
    "\t\t# save the actual frame in the uncalibrated folder of video 1 with the right index\n",
    "\t\tcv2.imwrite ( \"framesVideo3/uncalibrated/\" + str ( indexActualFrame ) + \".jpg\" , frame )\n",
    "\n",
    "\t\t# increment the index for the next frame\n",
    "\t\tindexActualFrame = indexActualFrame + 1\n",
    "\n",
    "# release the video\n",
    "video3.release ( )\n",
    "\n",
    "# debug row\n",
    "print ( \"FINISH SAVE FRAMES VIDEO 3\" )"
   ],
   "metadata": {
    "collapsed": false
   }
  },
  {
   "cell_type": "markdown",
   "source": [
    "Now we must save the correct number of frames of video 4"
   ],
   "metadata": {
    "collapsed": false
   }
  },
  {
   "cell_type": "code",
   "execution_count": null,
   "outputs": [],
   "source": [
    "# debug row\n",
    "print ( \"START SAVE FRAMES VIDEO 4\" )\n",
    "\n",
    "# open the video\n",
    "video4 = cv2.VideoCapture ( \"data/obj04.mp4\" )\n",
    "\n",
    "# the first frame is number 1\n",
    "indexActualFrame = 1\n",
    "\n",
    "# while there are other frames\n",
    "while video4.isOpened ( ) :\n",
    "\n",
    "\t# try to read another frame\n",
    "\tret , frame = video4.read ( )\n",
    "\n",
    "\t# if there is not another frame or some errors\n",
    "\tif not ret :\n",
    "\n",
    "\t\t# break the while loop\n",
    "\t\tbreak\n",
    "\n",
    "\t# if there is another frame and there are not errors\n",
    "\telse :\n",
    "\n",
    "\t\t# save the actual frame in the uncalibrated folder of video 1 with the right index\n",
    "\t\tcv2.imwrite ( \"framesVideo4/uncalibrated/\" + str ( indexActualFrame ) + \".jpg\" , frame )\n",
    "\n",
    "\t\t# increment the index for the next frame\n",
    "\t\tindexActualFrame = indexActualFrame + 1\n",
    "\n",
    "# release the video\n",
    "video4.release ( )\n",
    "\n",
    "# debug row\n",
    "print ( \"FINISH SAVE FRAMES VIDEO 1\" )"
   ],
   "metadata": {
    "collapsed": false
   }
  },
  {
   "cell_type": "markdown",
   "source": [
    "Now we release all videos"
   ],
   "metadata": {
    "collapsed": false
   }
  },
  {
   "cell_type": "code",
   "execution_count": 3,
   "outputs": [
    {
     "ename": "NameError",
     "evalue": "name 'debug' is not defined",
     "output_type": "error",
     "traceback": [
      "\u001B[1;31m---------------------------------------------------------------------------\u001B[0m",
      "\u001B[1;31mNameError\u001B[0m                                 Traceback (most recent call last)",
      "Cell \u001B[1;32mIn [3], line 8\u001B[0m\n\u001B[0;32m      5\u001B[0m video3\u001B[38;5;241m.\u001B[39mrelease ( )\n\u001B[0;32m      6\u001B[0m video4\u001B[38;5;241m.\u001B[39mrelease ( )\n\u001B[1;32m----> 8\u001B[0m \u001B[38;5;28;01mif\u001B[39;00m debug :\n\u001B[0;32m      9\u001B[0m \t\u001B[38;5;28mprint\u001B[39m ( \u001B[38;5;124m\"\u001B[39m\u001B[38;5;124mFINISH EXECUTION SAVE FRAMES\u001B[39m\u001B[38;5;124m\"\u001B[39m )\n",
      "\u001B[1;31mNameError\u001B[0m: name 'debug' is not defined"
     ]
    }
   ],
   "source": [
    "# release all videos\n",
    "\n",
    "video1.release ( )\n",
    "video2.release ( )\n",
    "video3.release ( )\n",
    "video4.release ( )\n",
    "\n",
    "if debug :\n",
    "\tprint ( \"FINISH EXECUTION SAVE FRAMES\" )"
   ],
   "metadata": {
    "collapsed": false
   }
  },
  {
   "cell_type": "code",
   "execution_count": null,
   "outputs": [],
   "source": [],
   "metadata": {
    "collapsed": false
   }
  }
 ],
 "metadata": {
  "kernelspec": {
   "display_name": "Python 3",
   "language": "python",
   "name": "python3"
  },
  "language_info": {
   "codemirror_mode": {
    "name": "ipython",
    "version": 2
   },
   "file_extension": ".py",
   "mimetype": "text/x-python",
   "name": "python",
   "nbconvert_exporter": "python",
   "pygments_lexer": "ipython2",
   "version": "2.7.6"
  }
 },
 "nbformat": 4,
 "nbformat_minor": 0
}
