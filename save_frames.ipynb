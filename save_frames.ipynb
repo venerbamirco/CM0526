{
 "cells": [
  {
   "cell_type": "markdown",
   "source": [
    "Now we import all necessary libraries"
   ],
   "metadata": {
    "collapsed": false
   }
  },
  {
   "cell_type": "code",
   "execution_count": 1,
   "outputs": [],
   "source": [
    "import cv2"
   ],
   "metadata": {
    "collapsed": false
   }
  },
  {
   "cell_type": "markdown",
   "source": [
    "Variable debug to see intermediate results"
   ],
   "metadata": {
    "collapsed": false
   }
  },
  {
   "cell_type": "code",
   "execution_count": 2,
   "outputs": [],
   "source": [
    "# variable for debug\n",
    "debug = True"
   ],
   "metadata": {
    "collapsed": false
   }
  },
  {
   "cell_type": "markdown",
   "source": [
    "Now we load all four video"
   ],
   "metadata": {
    "collapsed": false
   }
  },
  {
   "cell_type": "code",
   "execution_count": 3,
   "outputs": [],
   "source": [
    "# load all videos\n",
    "videoCalibration = cv2.VideoCapture ( \"data/calibration.mp4\" )\n",
    "video1 = cv2.VideoCapture ( \"data/obj01.mp4\" )\n",
    "video2 = cv2.VideoCapture ( \"data/obj02.mp4\" )\n",
    "video3 = cv2.VideoCapture ( \"data/obj03.mp4\" )\n",
    "video4 = cv2.VideoCapture ( \"data/obj04.mp4\" )"
   ],
   "metadata": {
    "collapsed": false
   }
  },
  {
   "cell_type": "markdown",
   "source": [
    "Now we calculate the fps for each video"
   ],
   "metadata": {
    "collapsed": false
   }
  },
  {
   "cell_type": "code",
   "execution_count": 4,
   "outputs": [
    {
     "name": "stdout",
     "output_type": "stream",
     "text": [
      "FPS\n",
      "Video calibration) 29.97002997002997\n",
      "Video 1) 29.97002997002997\n",
      "Video 2) 29.97002997002997\n",
      "Video 3) 29.97002997002997\n",
      "Video 4) 29.97002997002997\n"
     ]
    }
   ],
   "source": [
    "# variables for fps\n",
    "fpsVideoCalibration = videoCalibration.get ( cv2.CAP_PROP_FPS )\n",
    "fpsVideo1 = video1.get ( cv2.CAP_PROP_FPS )\n",
    "fpsVideo2 = video2.get ( cv2.CAP_PROP_FPS )\n",
    "fpsVideo3 = video3.get ( cv2.CAP_PROP_FPS )\n",
    "fpsVideo4 = video4.get ( cv2.CAP_PROP_FPS )\n",
    "\n",
    "if debug :\n",
    "\tprint ( \"FPS\" )\n",
    "\tprint ( \"Video calibration) \" + str ( fpsVideo1 ) )\n",
    "\tprint ( \"Video 1) \" + str ( fpsVideo1 ) )\n",
    "\tprint ( \"Video 2) \" + str ( fpsVideo2 ) )\n",
    "\tprint ( \"Video 3) \" + str ( fpsVideo3 ) )\n",
    "\tprint ( \"Video 4) \" + str ( fpsVideo4 ) )"
   ],
   "metadata": {
    "collapsed": false
   }
  },
  {
   "cell_type": "markdown",
   "source": [
    "Now we store the length of each video"
   ],
   "metadata": {
    "collapsed": false
   }
  },
  {
   "cell_type": "code",
   "execution_count": 5,
   "outputs": [
    {
     "name": "stdout",
     "output_type": "stream",
     "text": [
      "LENGTH\n",
      "Video calibration) 1:20\n",
      "Video 1) 0:28\n",
      "Video 2) 0:21\n",
      "Video 3) 0:16\n",
      "Video 4) 0:20\n"
     ]
    }
   ],
   "source": [
    "# variables to contains length of each video\n",
    "minutesVideoCalibration = 1\n",
    "secondsVideoCalibration = 20\n",
    "\n",
    "minutesVideo1 = 0\n",
    "secondsVideo1 = 28\n",
    "\n",
    "minutesVideo2 = 0\n",
    "secondsVideo2 = 21\n",
    "\n",
    "minutesVideo3 = 0\n",
    "secondsVideo3 = 16\n",
    "\n",
    "minutesVideo4 = 0\n",
    "secondsVideo4 = 20\n",
    "\n",
    "if debug :\n",
    "\tprint ( \"LENGTH\" )\n",
    "\tprint ( \"Video calibration) \" + str ( minutesVideoCalibration ) + \":\" + str ( secondsVideoCalibration ) )\n",
    "\tprint ( \"Video 1) \" + str ( minutesVideo1 ) + \":\" + str ( secondsVideo1 ) )\n",
    "\tprint ( \"Video 2) \" + str ( minutesVideo2 ) + \":\" + str ( secondsVideo2 ) )\n",
    "\tprint ( \"Video 3) \" + str ( minutesVideo3 ) + \":\" + str ( secondsVideo3 ) )\n",
    "\tprint ( \"Video 4) \" + str ( minutesVideo4 ) + \":\" + str ( secondsVideo4 ) )"
   ],
   "metadata": {
    "collapsed": false
   }
  },
  {
   "cell_type": "markdown",
   "source": [
    "Now we calculate the number of frames for each video"
   ],
   "metadata": {
    "collapsed": false
   }
  },
  {
   "cell_type": "code",
   "execution_count": 6,
   "outputs": [
    {
     "name": "stdout",
     "output_type": "stream",
     "text": [
      "FRAMES\n",
      "Video calibration) 2397\n",
      "Video 1) 839\n",
      "Video 2) 629\n",
      "Video 3) 479\n",
      "Video 4) 599\n"
     ]
    }
   ],
   "source": [
    "# variables to contains the number of all frames for each video\n",
    "numberFramesVideoCalibration = int ( fpsVideoCalibration * (minutesVideoCalibration * 60 + secondsVideoCalibration) )\n",
    "numberFramesVideo1 = int ( fpsVideo1 * (minutesVideo1 * 60 + secondsVideo1) )\n",
    "numberFramesVideo2 = int ( fpsVideo2 * (minutesVideo2 * 60 + secondsVideo2) )\n",
    "numberFramesVideo3 = int ( fpsVideo3 * (minutesVideo3 * 60 + secondsVideo3) )\n",
    "numberFramesVideo4 = int ( fpsVideo4 * (minutesVideo4 * 60 + secondsVideo4) )\n",
    "\n",
    "if debug :\n",
    "\tprint ( \"FRAMES\" )\n",
    "\tprint ( \"Video calibration) \" + str ( numberFramesVideoCalibration ) )\n",
    "\tprint ( \"Video 1) \" + str ( numberFramesVideo1 ) )\n",
    "\tprint ( \"Video 2) \" + str ( numberFramesVideo2 ) )\n",
    "\tprint ( \"Video 3) \" + str ( numberFramesVideo3 ) )\n",
    "\tprint ( \"Video 4) \" + str ( numberFramesVideo4 ) )"
   ],
   "metadata": {
    "collapsed": false
   }
  },
  {
   "cell_type": "markdown",
   "source": [
    "Now we must save the correct number of frames of calibration video"
   ],
   "metadata": {
    "collapsed": false
   }
  },
  {
   "cell_type": "code",
   "execution_count": 7,
   "outputs": [
    {
     "name": "stdout",
     "output_type": "stream",
     "text": [
      "START SAVE FRAMES VIDEO CALIBRATION\n",
      "FINISH SAVE FRAMES VIDEO CALIBRATION\n"
     ]
    }
   ],
   "source": [
    "if debug :\n",
    "\tprint ( \"START SAVE FRAMES VIDEO CALIBRATION\" )\n",
    "\n",
    "# number of frames that we want\n",
    "numberFramesWeWantVideoCalibration = 50\n",
    "\n",
    "# number of frame to skip going forward\n",
    "numberFrameToSkipVideoCalibration = numberFramesVideoCalibration / numberFramesWeWantVideoCalibration\n",
    "\n",
    "# variable to store the index of actual frame that we must save\n",
    "indexActualFrame = 1\n",
    "\n",
    "# variable to store the correct index in the folder\n",
    "indexInFolder = 1\n",
    "\n",
    "# until the index of actual frame is less than the total number\n",
    "while indexActualFrame <= numberFramesVideoCalibration :\n",
    "\n",
    "\t# set the frame that we must save\n",
    "\tvideoCalibration.set ( 1 , indexActualFrame )\n",
    "\n",
    "\t# read the current frame\n",
    "\tret , frame = videoCalibration.read ( )\n",
    "\n",
    "\t# save the actual frame\n",
    "\tcv2.imwrite ( \"framesVideoCalibration/uncalibrated/\" + str ( indexInFolder ) + \".jpg\" , frame )\n",
    "\n",
    "\t# increment the index used in the folder\n",
    "\tindexInFolder += 1\n",
    "\n",
    "\t# increment the index for the next frame to save\n",
    "\tindexActualFrame += numberFrameToSkipVideoCalibration\n",
    "\n",
    "if debug :\n",
    "\tprint ( \"FINISH SAVE FRAMES VIDEO CALIBRATION\" )"
   ],
   "metadata": {
    "collapsed": false
   }
  },
  {
   "cell_type": "markdown",
   "source": [
    "Now we must save the correct number of frames of video 1"
   ],
   "metadata": {
    "collapsed": false
   }
  },
  {
   "cell_type": "code",
   "execution_count": 8,
   "outputs": [
    {
     "name": "stdout",
     "output_type": "stream",
     "text": [
      "START SAVE FRAMES VIDEO 1\n",
      "FINISH SAVE FRAMES VIDEO 1\n"
     ]
    }
   ],
   "source": [
    "if debug :\n",
    "\tprint ( \"START SAVE FRAMES VIDEO 1\" )\n",
    "\n",
    "# number of frames that we want\n",
    "numberFramesWeWantVideo1 = 50\n",
    "\n",
    "# number of frame to skip going forward\n",
    "numberFrameToSkipVideo1 = numberFramesVideo1 / numberFramesWeWantVideo1\n",
    "\n",
    "# variable to store the index of actual frame that we must save\n",
    "indexActualFrame = 1\n",
    "\n",
    "# variable to store the correct index in the folder\n",
    "indexInFolder = 1\n",
    "\n",
    "# until the index of actual frame is less than the total number\n",
    "while indexActualFrame <= numberFramesVideo1 :\n",
    "\n",
    "\t# set the frame that we must save\n",
    "\tvideo1.set ( 1 , indexActualFrame )\n",
    "\n",
    "\t# read the current frame\n",
    "\tret , frame = video1.read ( )\n",
    "\n",
    "\t# save the actual frame\n",
    "\tcv2.imwrite ( \"framesVideo1/uncalibrated/\" + str ( indexInFolder ) + \".jpg\" , frame )\n",
    "\n",
    "\t# increment the index used in the folder\n",
    "\tindexInFolder += 1\n",
    "\n",
    "\t# increment the index for the next frame to save\n",
    "\tindexActualFrame += numberFrameToSkipVideo1\n",
    "\n",
    "if debug :\n",
    "\tprint ( \"FINISH SAVE FRAMES VIDEO 1\" )"
   ],
   "metadata": {
    "collapsed": false
   }
  },
  {
   "cell_type": "markdown",
   "source": [
    "Now we must save the correct number of frames of video 2"
   ],
   "metadata": {
    "collapsed": false
   }
  },
  {
   "cell_type": "code",
   "execution_count": 9,
   "outputs": [
    {
     "name": "stdout",
     "output_type": "stream",
     "text": [
      "START SAVE FRAMES VIDEO 2\n",
      "FINISH SAVE FRAMES VIDEO 2\n"
     ]
    }
   ],
   "source": [
    "if debug :\n",
    "\tprint ( \"START SAVE FRAMES VIDEO 2\" )\n",
    "\n",
    "# number of frames that we want\n",
    "numberFramesWeWantVideo2 = 50\n",
    "\n",
    "# number of frame to skip going forward\n",
    "numberFrameToSkipVideo2 = numberFramesVideo2 / numberFramesWeWantVideo2\n",
    "\n",
    "# variable to store the index of actual frame that we must save\n",
    "indexActualFrame = 2\n",
    "\n",
    "# variable to store the correct index in the folder\n",
    "indexInFolder = 1\n",
    "\n",
    "# until the index of actual frame is less than the total number\n",
    "while video2.isOpened ( ) and indexActualFrame <= numberFramesVideo2 :\n",
    "\n",
    "\t# set the frame that we must save\n",
    "\tvideo2.set ( 1 , indexActualFrame )\n",
    "\n",
    "\t# read the current frame\n",
    "\tret , frame = video2.read ( )\n",
    "\t# save the actual frame\n",
    "\tcv2.imwrite ( \"framesVideo2/uncalibrated/\" + str ( indexInFolder ) + \".jpg\" , frame )\n",
    "\n",
    "\t# increment the index used in the folder\n",
    "\tindexInFolder += 1\n",
    "\n",
    "\t# increment the index for the next frame to save\n",
    "\tindexActualFrame += numberFrameToSkipVideo2\n",
    "\n",
    "if debug :\n",
    "\tprint ( \"FINISH SAVE FRAMES VIDEO 2\" )"
   ],
   "metadata": {
    "collapsed": false
   }
  },
  {
   "cell_type": "markdown",
   "source": [
    "Now we must save the correct number of frames of video 3"
   ],
   "metadata": {
    "collapsed": false
   }
  },
  {
   "cell_type": "code",
   "execution_count": 10,
   "outputs": [
    {
     "name": "stdout",
     "output_type": "stream",
     "text": [
      "START SAVE FRAMES VIDEO 3\n",
      "FINISH SAVE FRAMES VIDEO 3\n"
     ]
    }
   ],
   "source": [
    "if debug :\n",
    "\tprint ( \"START SAVE FRAMES VIDEO 3\" )\n",
    "\n",
    "# number of frames that we want\n",
    "numberFramesWeWantVideo3 = 50\n",
    "\n",
    "# number of frame to skip going forward\n",
    "numberFrameToSkipVideo3 = numberFramesVideo3 / numberFramesWeWantVideo3\n",
    "\n",
    "# variable to store the index of actual frame that we must save\n",
    "indexActualFrame = 3\n",
    "\n",
    "# variable to store the correct index in the folder\n",
    "indexInFolder = 1\n",
    "\n",
    "# until the index of actual frame is less than the total number\n",
    "while indexActualFrame <= numberFramesVideo3 :\n",
    "\n",
    "\t# set the frame that we must save\n",
    "\tvideo3.set ( 1 , indexActualFrame )\n",
    "\n",
    "\t# read the current frame\n",
    "\tret , frame = video3.read ( )\n",
    "\n",
    "\t# save the actual frame\n",
    "\tcv2.imwrite ( \"framesVideo3/uncalibrated/\" + str ( indexInFolder ) + \".jpg\" , frame )\n",
    "\n",
    "\t# increment the index used in the folder\n",
    "\tindexInFolder += 1\n",
    "\n",
    "\t# increment the index for the next frame to save\n",
    "\tindexActualFrame += numberFrameToSkipVideo3\n",
    "\n",
    "if debug :\n",
    "\tprint ( \"FINISH SAVE FRAMES VIDEO 3\" )"
   ],
   "metadata": {
    "collapsed": false
   }
  },
  {
   "cell_type": "markdown",
   "source": [
    "Now we must save the correct number of frames of video 4"
   ],
   "metadata": {
    "collapsed": false
   }
  },
  {
   "cell_type": "code",
   "execution_count": 11,
   "outputs": [
    {
     "name": "stdout",
     "output_type": "stream",
     "text": [
      "START SAVE FRAMES VIDEO 4\n",
      "FINISH SAVE FRAMES VIDEO 4\n"
     ]
    }
   ],
   "source": [
    "if debug :\n",
    "\tprint ( \"START SAVE FRAMES VIDEO 4\" )\n",
    "\n",
    "# number of frames that we want\n",
    "numberFramesWeWantVideo4 = 50\n",
    "\n",
    "# number of frame to skip going forward\n",
    "numberFrameToSkipVideo4 = numberFramesVideo4 / numberFramesWeWantVideo4\n",
    "\n",
    "# variable to store the index of actual frame that we must save\n",
    "indexActualFrame = 4\n",
    "\n",
    "# variable to store the correct index in the folder\n",
    "indexInFolder = 1\n",
    "\n",
    "# until the index of actual frame is less than the total number\n",
    "while indexActualFrame <= numberFramesVideo4 :\n",
    "\n",
    "\t# set the frame that we must save\n",
    "\tvideo4.set ( 1 , indexActualFrame )\n",
    "\n",
    "\t# read the current frame\n",
    "\tret , frame = video4.read ( )\n",
    "\n",
    "\t# save the actual frame\n",
    "\tcv2.imwrite ( \"framesVideo4/uncalibrated/\" + str ( indexInFolder ) + \".jpg\" , frame )\n",
    "\n",
    "\t# increment the index used in the folder\n",
    "\tindexInFolder += 1\n",
    "\n",
    "\t# increment the index for the next frame to save\n",
    "\tindexActualFrame += numberFrameToSkipVideo4\n",
    "\n",
    "if debug :\n",
    "\tprint ( \"FINISH SAVE FRAMES VIDEO 4\" )"
   ],
   "metadata": {
    "collapsed": false
   }
  },
  {
   "cell_type": "markdown",
   "source": [
    "Now we release all videos"
   ],
   "metadata": {
    "collapsed": false
   }
  },
  {
   "cell_type": "code",
   "execution_count": 12,
   "outputs": [
    {
     "name": "stdout",
     "output_type": "stream",
     "text": [
      "FINISH EXECUTION SAVE FRAMES\n"
     ]
    }
   ],
   "source": [
    "# release all videos\n",
    "\n",
    "video1.release ( )\n",
    "video2.release ( )\n",
    "video3.release ( )\n",
    "video4.release ( )\n",
    "\n",
    "if debug :\n",
    "\tprint ( \"FINISH EXECUTION SAVE FRAMES\" )"
   ],
   "metadata": {
    "collapsed": false
   }
  }
 ],
 "metadata": {
  "kernelspec": {
   "display_name": "Python 3",
   "language": "python",
   "name": "python3"
  },
  "language_info": {
   "codemirror_mode": {
    "name": "ipython",
    "version": 2
   },
   "file_extension": ".py",
   "mimetype": "text/x-python",
   "name": "python",
   "nbconvert_exporter": "python",
   "pygments_lexer": "ipython2",
   "version": "2.7.6"
  }
 },
 "nbformat": 4,
 "nbformat_minor": 0
}
