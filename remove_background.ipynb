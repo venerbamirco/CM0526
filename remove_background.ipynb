{
 "cells": [
  {
   "cell_type": "code",
   "execution_count": 2,
   "metadata": {
    "collapsed": true
   },
   "outputs": [],
   "source": [
    "import numpy as np\n",
    "import cv2\n",
    "import glob\n",
    "import math"
   ]
  },
  {
   "cell_type": "code",
   "execution_count": 27,
   "outputs": [],
   "source": [
    "# get list of frames of video 1\n",
    "listImages = glob.glob ( \"framesVideo1/uncalibrated/*.jpg\" )\n",
    "\n",
    "# for each image\n",
    "for image in listImages :\n",
    "\n",
    "    # open the actual image in color mode\n",
    "    img = cv2.imread ( image , cv2.IMREAD_COLOR )\n",
    "\n",
    "    ## mask o yellow (15,0,0) ~ (36, 255, 255)\n",
    "\n",
    "    # blue 0 100\n",
    "    # green 0 255\n",
    "    # red 0 255\n",
    "\n",
    "    mask2 = cv2.inRange(img, (0,0,100), (130,255,255))\n",
    "\n",
    "    ## final mask and masked\n",
    "    target = cv2.bitwise_and(img,img, mask=mask2)\n",
    "\n",
    "    yellow_filter=image.replace ( \"uncalibrated\" , \"backgroundremoved\" )\n",
    "    yellow_filter=yellow_filter.replace ( \"226\" , \"1_yellow_filter\" )\n",
    "    cv2.imwrite ( yellow_filter , target )"
   ],
   "metadata": {
    "collapsed": false
   }
  },
  {
   "cell_type": "code",
   "execution_count": 26,
   "outputs": [],
   "source": [],
   "metadata": {
    "collapsed": false
   }
  },
  {
   "cell_type": "code",
   "execution_count": 22,
   "outputs": [],
   "source": [],
   "metadata": {
    "collapsed": false
   }
  }
 ],
 "metadata": {
  "kernelspec": {
   "display_name": "Python 3",
   "language": "python",
   "name": "python3"
  },
  "language_info": {
   "codemirror_mode": {
    "name": "ipython",
    "version": 2
   },
   "file_extension": ".py",
   "mimetype": "text/x-python",
   "name": "python",
   "nbconvert_exporter": "python",
   "pygments_lexer": "ipython2",
   "version": "2.7.6"
  }
 },
 "nbformat": 4,
 "nbformat_minor": 0
}
