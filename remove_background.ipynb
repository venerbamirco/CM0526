{
 "cells": [
  {
   "cell_type": "code",
   "execution_count": 1,
   "metadata": {
    "collapsed": true
   },
   "outputs": [],
   "source": [
    "import numpy as np\n",
    "import cv2\n",
    "import glob\n",
    "import math"
   ]
  },
  {
   "cell_type": "code",
   "execution_count": 134,
   "outputs": [],
   "source": [
    "# get list of frames of video 1\n",
    "listImages = glob.glob ( \"framesVideo1/uncalibrated/*.jpg\" )\n",
    "\n",
    "# for each image\n",
    "for image in listImages :\n",
    "\n",
    "\t# open the actual image in color mode\n",
    "\timg1 = cv2.imread ( image , cv2.IMREAD_COLOR )\n",
    "\timg13 = cv2.imread ( image , cv2.IMREAD_COLOR )\n",
    "\n",
    "\t## mask o yellow (15,0,0) ~ (36, 255, 255)\n",
    "\n",
    "\t# blue 0 100\n",
    "\t# green 0 255\n",
    "\t# red 0 255\n",
    "\n",
    "\t# dimension of the object plus a small piece of the glass\n",
    "\timg = img1 [ int ( 1080 / 8 * 1 ) :int ( 1080 / 8 * 7 ) , int ( 1920 / 6 ) :int ( 1920 / 2 ) , : ]\n",
    "\timg [ 0 :int ( 1080 / 8 * 6 ) , 0 :int ( 1920 / 3 ) , : ] = img\n",
    "\tmask2 = cv2.inRange ( img , (55 , 35 , 0) , (170 , 120 , 98) )\n",
    "\ttarget = cv2.bitwise_and ( img , img , mask = mask2 )\n",
    "\n",
    "\t#yellow glass filter\n",
    "\timg_w = img13 [ int ( 1080 / 8 * 1 ) :int ( 1080 / 8 * 7 ) , int ( 1920 / 2-(1920/18)) :int ( 1920 / 2 ) , : ]\n",
    "\tmask3 = cv2.inRange ( img_w , (0,150,150) , (130,255,230) )\n",
    "\ttarget1 = cv2.bitwise_and ( img_w , img_w , mask = mask3 )\n",
    "\n",
    "\n",
    "\t#kernel = np.ones ( (10,10) , np.uint8 )\n",
    "\t#target = cv2.erode ( target , kernel )\n",
    "\n",
    "\tyellow_filter = image.replace ( \"uncalibrated\" , \"backgroundremoved\" )\n",
    "\n",
    "\tcv2.imwrite ( yellow_filter , target1 )"
   ],
   "metadata": {
    "collapsed": false
   }
  },
  {
   "cell_type": "code",
   "execution_count": 26,
   "outputs": [],
   "source": [],
   "metadata": {
    "collapsed": false
   }
  },
  {
   "cell_type": "code",
   "execution_count": 22,
   "outputs": [],
   "source": [],
   "metadata": {
    "collapsed": false
   }
  }
 ],
 "metadata": {
  "kernelspec": {
   "display_name": "Python 3",
   "language": "python",
   "name": "python3"
  },
  "language_info": {
   "codemirror_mode": {
    "name": "ipython",
    "version": 2
   },
   "file_extension": ".py",
   "mimetype": "text/x-python",
   "name": "python",
   "nbconvert_exporter": "python",
   "pygments_lexer": "ipython2",
   "version": "2.7.6"
  }
 },
 "nbformat": 4,
 "nbformat_minor": 0
}
