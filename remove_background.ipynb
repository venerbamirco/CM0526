{
 "cells": [
  {
   "cell_type": "code",
   "execution_count": 4,
   "metadata": {
    "collapsed": true
   },
   "outputs": [],
   "source": [
    "import numpy as np\n",
    "import cv2\n",
    "import glob\n",
    "import math"
   ]
  },
  {
   "cell_type": "code",
   "execution_count": 147,
   "outputs": [],
   "source": [
    "# get list of frames of video 1\n",
    "listImages = glob.glob ( \"framesVideo1/uncalibrated/*.jpg\" )\n",
    "\n",
    "# for each image\n",
    "for image in listImages :\n",
    "\n",
    "    # open the actual image in color mode\n",
    "    img1 = cv2.imread ( image , cv2.IMREAD_COLOR )\n",
    "    img13 = cv2.imread ( image , cv2.IMREAD_COLOR )\n",
    "\n",
    "    # dimension of the object plus a small piece of the glass\n",
    "    img = img1 [ int ( 1080 / 8 * 1 ) :int ( 1080 / 8 * 7 ) , int ( 1920 / 6 ) :int ( 1920 / 2 ) , : ]\n",
    "    img [ 0 :int ( 1080 / 8 * 6 ) , 0 :int ( 1920 / 3 ) , : ] = img\n",
    "\n",
    "    # white background and black object\n",
    "    mask2 = cv2.inRange ( img , (60 , 30 , 15) , (173 , 117 , 95) )\n",
    "\n",
    "    # blue background and black object\n",
    "    target = cv2.bitwise_and ( img , img , mask = mask2 )\n",
    "\n",
    "    # white object and black background\n",
    "    target = cv2.inRange ( target , (0,0,0) , (0,0,0) )\n",
    "\n",
    "    # If pixel intensity is greater than the set threshold, value set to 0 black, else set to 255 white\n",
    "    _ , target = cv2.threshold ( target , 0 , 255 , cv2.THRESH_BINARY_INV )\n",
    "\n",
    "    # erosion to delete small objects into the main object\n",
    "    kernel = np.ones((3,3), np.uint8)\n",
    "    target = cv2.erode(target, kernel, iterations=4)\n",
    "\n",
    "\n",
    "    #yellow glass filter\n",
    "    img_w = img13 [ int ( 1080 / 8 * 1 ) :int ( 1080 / 8 * 7 ) , int ( 1920 / 2-(1920/16)) :int ( 1920 / 2 ), : ]\n",
    "\n",
    "\n",
    "\n",
    "\n",
    "\n",
    "\n",
    "\n",
    "    #_ , threshold_gray_actual_image = cv2.threshold ( img_w , 150 , 180 , cv2.THRESH_BINARY )\n",
    "\n",
    "    #hsv_img = cv2.cvtColor(img_w, cv2.COLOR_BGR2YUV)\n",
    "    #mask3 = cv2.inRange ( img_w , (0,170,170) , (130,255,255) )\n",
    "    mask3 = cv2.inRange ( img_w , (0,150,160) , (130,255,255) )\n",
    "    target1 = cv2.bitwise_and ( img_w , img_w , mask = mask3 )\n",
    "    # #kernel = np.ones ( (10,10) , np.uint8 )\n",
    "    #target = cv2.erode ( target , kernel )\n",
    "\n",
    "    yellow_filter = image.replace ( \"uncalibrated\" , \"backgroundremoved\" )\n",
    "    cv2.imwrite ( yellow_filter , target )"
   ],
   "metadata": {
    "collapsed": false
   }
  },
  {
   "cell_type": "code",
   "execution_count": 126,
   "outputs": [],
   "source": [],
   "metadata": {
    "collapsed": false
   }
  },
  {
   "cell_type": "code",
   "execution_count": 22,
   "outputs": [],
   "source": [],
   "metadata": {
    "collapsed": false
   }
  }
 ],
 "metadata": {
  "kernelspec": {
   "display_name": "Python 3",
   "language": "python",
   "name": "python3"
  },
  "language_info": {
   "codemirror_mode": {
    "name": "ipython",
    "version": 2
   },
   "file_extension": ".py",
   "mimetype": "text/x-python",
   "name": "python",
   "nbconvert_exporter": "python",
   "pygments_lexer": "ipython2",
   "version": "2.7.6"
  }
 },
 "nbformat": 4,
 "nbformat_minor": 0
}
