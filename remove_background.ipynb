{
 "cells": [
  {
   "cell_type": "code",
   "execution_count": 2,
   "metadata": {
    "collapsed": true
   },
   "outputs": [],
   "source": [
    "import numpy as np\n",
    "import cv2\n",
    "import glob\n",
    "import math"
   ]
  },
  {
   "cell_type": "code",
   "execution_count": 31,
   "outputs": [],
   "source": [
    "# variable to store which video we must elaborate, we must insert only numbers 1,2,3 or 4\n",
    "videoToElaborate = 1\n",
    "\n",
    "# get list of frames of video 1\n",
    "listImages = glob.glob(\"framesVideo\" + str(videoToElaborate) + \"/uncalibrated/*.jpg\")\n",
    "\n",
    "# for each image\n",
    "for image in listImages:\n",
    "    # open the actual image in color mode\n",
    "    img1 = cv2.imread(image, cv2.IMREAD_COLOR)\n",
    "    imgtemp = cv2.imread(image, 0)\n",
    "    img13 = cv2.imread(image, cv2.IMREAD_COLOR)\n",
    "    imgw = cv2.imread(image, cv2.IMREAD_COLOR)\n",
    "\n",
    "    # dimension of the object plus a small piece of the glass\n",
    "    img = img1[int(1080 / 8 * 1):int(1080 / 8 * 7), int(1920 / 6):int(1920 / 2) + int(1920 / 20), :]\n",
    "\n",
    "    img5 = img[:, 509:736, :]\n",
    "\n",
    "    # white background and black object\n",
    "    mask2 = cv2.inRange(img, (40, 0, 0), (173, 120, 96))\n",
    "\n",
    "    # blue background and black object\n",
    "    target = cv2.bitwise_and(img, img, mask=mask2)\n",
    "\n",
    "    # white object and black background\n",
    "    #target = cv2.inRange ( target , (0,0,0) , (0,0,0) )\n",
    "\n",
    "    # If pixel intensity is greater than the set threshold, value set to 0 black, else set to 255 white\n",
    "    #_ , target = cv2.threshold ( target , 0 , 255 , cv2.THRESH_BINARY_INV )\n",
    "\n",
    "    # erosion to delete small objects into the main object\n",
    "    #kernel = np.ones((3,3), np.uint8)\n",
    "    #target = cv2.erode(target, kernel, iterations=3)\n",
    "    img13[int(1080 / 8 * 1):int(1080 / 8 * 7), int(1920 / 6):int(1920 / 2) + int(1920 / 20)] = target\n",
    "\n",
    "    #yellow glass filter\n",
    "\n",
    "    #_ , threshold_gray_actual_image = cv2.threshold ( img_w , 150 , 180 , cv2.THRESH_BINARY )\n",
    "\n",
    "    #hsv_img = cv2.cvtColor(img_w, cv2.COLOR_BGR2YUV)\n",
    "    mask3 = cv2.inRange(img5, (0, 170, 170), (80, 255, 255))\n",
    "\n",
    "    if videoToElaborate == 1:\n",
    "        mask3 = cv2.inRange ( img5 , (0,150,160) , (160,255,255) )\n",
    "        mask4 = cv2.inRange ( img5 , (0,140,170) , (150,180,255) )\n",
    "        mask3 = cv2.bitwise_or ( mask3, mask4 )\n",
    "\n",
    "    elif videoToElaborate == 2:\n",
    "        pass\n",
    "    elif videoToElaborate == 3:\n",
    "        pass\n",
    "    elif videoToElaborate == 4:\n",
    "        pass\n",
    "\n",
    "    target1 = cv2.bitwise_and(img5, img5, mask=mask3)\n",
    "\n",
    "    kernel = np.ones((3, 3), np.uint8)\n",
    "    #target1 = cv2.dilate(target1, kernel, iterations=5)\n",
    "    #target1 = cv2.erode(target1, kernel, iterations=3)\n",
    "    #img_w = img13 [ int ( 1080 / 8 * 1 ) :int ( 1080 / 8 * 7 ) , int ( 1920 / 2-(1920/16)) :int ( 1920 / 2 ), : ]\n",
    "\n",
    "    #mask3 = cv2.inRange ( img_w , (0,150,160) , (130,255,255) )\n",
    "\n",
    "    #kernel = np.ones((3,3), np.uint8)\n",
    "    #target1 = cv2.dilate(target1, kernel, iterations=3)\n",
    "\n",
    "    yellow_filter = image.replace(\"uncalibrated\", \"object\")\n",
    "    cv2.imwrite(yellow_filter, target)\n",
    "\n",
    "    yellow_filter = image.replace(\"uncalibrated\", \"glass\")\n",
    "    cv2.imwrite(yellow_filter, target1)\n",
    "\n",
    "    #target = cv2.bitwise_xor ( target, target1 , mask = None )\n",
    "\n",
    "    # #kernel = np.ones ( (10,10) , np.uint8 )\n",
    "    #target = cv2.erode ( target , kernel )\n",
    "\n",
    "    for y in range(int(1080 / 8 * 1), int(1080 / 8 * 7)):\n",
    "        for x in range(int(1920 / 6), int(1920 / 2) + int(1920 / 20)):\n",
    "\n",
    "            if int(1920 / 6) + 509 <= x < int(1920 / 2) + int(1920 / 20):\n",
    "\n",
    "                if target[y - 135][x - 320][0] == 0 and target[y - 135][x - 320][1] == 0 and target[y - 135][x - 320][2] == 0:\n",
    "\n",
    "                    if target1[y - 135][x - (int(1920 / 6) + 509)][0] == 0 and target1[y - 135][x - (int(1920 / 6) + 509)][1] == 0 and target1[y - 135][x - (int(1920 / 6) + 509)][2] == 0:\n",
    "                        imgw[y, x] = (0, 0, 0)\n",
    "\n",
    "            elif int(1920 / 6) <= x < int(1920 / 6) + 509:\n",
    "\n",
    "                if target[y - 135][x - 320][0] == 0 and target[y - 135][x - 320][1] == 0 and target[y - 135][x - 320][2] == 0:\n",
    "                    imgw[y, x] = (0, 0, 0)\n",
    "\n",
    "    yellow_filter = image.replace(\"uncalibrated\", \"backgroundremoved\")\n",
    "    cv2.imwrite(yellow_filter, imgw)\n"
   ],
   "metadata": {
    "collapsed": false
   }
  },
  {
   "cell_type": "code",
   "execution_count": 38,
   "outputs": [],
   "source": [],
   "metadata": {
    "collapsed": false
   }
  },
  {
   "cell_type": "code",
   "execution_count": null,
   "outputs": [],
   "source": [
    "print(int(1080 / 8 * 7) - (int(1080 / 8 * 1)))"
   ],
   "metadata": {
    "collapsed": false
   }
  },
  {
   "cell_type": "code",
   "execution_count": null,
   "outputs": [],
   "source": [],
   "metadata": {
    "collapsed": false
   }
  },
  {
   "cell_type": "code",
   "execution_count": null,
   "outputs": [],
   "source": [],
   "metadata": {
    "collapsed": false
   }
  }
 ],
 "metadata": {
  "kernelspec": {
   "display_name": "Python 3",
   "language": "python",
   "name": "python3"
  },
  "language_info": {
   "codemirror_mode": {
    "name": "ipython",
    "version": 2
   },
   "file_extension": ".py",
   "mimetype": "text/x-python",
   "name": "python",
   "nbconvert_exporter": "python",
   "pygments_lexer": "ipython2",
   "version": "2.7.6"
  }
 },
 "nbformat": 4,
 "nbformat_minor": 0
}
